{
 "cells": [
  {
   "cell_type": "code",
   "execution_count": null,
   "id": "d40c4032",
   "metadata": {},
   "outputs": [],
   "source": [
    "# importing the relevant libraries \n",
    "import pandas as pd\n",
    "# uncomment the following line to install 'geopandas' and 'pydeck' if needed\n",
    "#!pip install pydeck\n",
    "#!pip install pydeck\n",
    "import geopandas\n",
    "import pydeck as pdk\n",
    "\n",
    "# reading in the cities dataframe\n",
    "cities_pdf = pd.read_csv('data/worldCities.csv')\n",
    "\n",
    "#using geopandas points_from_xy() to transform Latitude and Longitude into a list of shapely.Point as per, https://geopandas.org/en/stable/gallery/create_geopandas_from_pandas.html\n",
    "cities_gdf = geopandas.GeoDataFrame(cities_pdf, geometry=geopandas.points_from_xy(cities_pdf.lon, cities_pdf.lat))\n",
    "\n",
    "cities_gdf"
   ]
  },
  {
   "cell_type": "code",
   "execution_count": null,
   "id": "3831b3ea",
   "metadata": {
    "scrolled": true
   },
   "outputs": [],
   "source": [
    "# height of the column is determined by the population \n",
    "\n",
    "# code adapted from: \n",
    "# https://pydeck.gl/layer.html\n",
    "# https://deckgl.readthedocs.io/en/latest/gallery/column_layer.html\n",
    "# and https://discuss.streamlit.io/t/how-to-make-pydeck-chart-hexagon-layer-bar-height-based-on-column-value/3959\n",
    "\n",
    "# setting the viewport location and zoom\n",
    "view_state = pdk.ViewState(\n",
    "    longitude=0,\n",
    "    latitude=45,\n",
    "    zoom=3,\n",
    "    min_zoom=3,\n",
    "    max_zoom=10,\n",
    "    pitch=75,\n",
    "    bearing=0,)\n",
    "\n",
    "# assigning the layer details to the variable 'column_layer'\n",
    "column_layer = pdk.Layer(\n",
    "    \"ColumnLayer\",\n",
    "    data=cities_gdf,\n",
    "    get_position=[\"lon\", \"lat\"],\n",
    "    get_elevation=\"population\",\n",
    "    elevation_scale=0.1,\n",
    "    radius=1000,\n",
    "    get_fill_color=['population'],\n",
    "    pickable=True,\n",
    "    auto_highlight=True,)\n",
    "\n",
    "# preparing tooltip popup to display the city and population details\n",
    "tooltip = {\n",
    "    \"html\": \"<b>{city}</b> has a population of <b>{population}</b>\",\n",
    "    \"style\": {\"background\": \"grey\", \"color\": \"white\", \"font-family\": '\"Helvetica Neue\", Arial', \"z-index\": \"10000\"},}\n",
    "\n",
    "# combining the layer vairables and rendering a viewport\n",
    "r = pdk.Deck(column_layer, initial_view_state=view_state,tooltip=tooltip)\n",
    "r.to_html(\"worldcities.html\")\n",
    "\n",
    "# hold CTR to pan the map"
   ]
  },
  {
   "cell_type": "code",
   "execution_count": null,
   "id": "ea1e9ede",
   "metadata": {},
   "outputs": [],
   "source": []
  }
 ],
 "metadata": {
  "kernelspec": {
   "display_name": "Python 3 (ipykernel)",
   "language": "python",
   "name": "python3"
  },
  "language_info": {
   "codemirror_mode": {
    "name": "ipython",
    "version": 3
   },
   "file_extension": ".py",
   "mimetype": "text/x-python",
   "name": "python",
   "nbconvert_exporter": "python",
   "pygments_lexer": "ipython3",
   "version": "3.11.0"
  }
 },
 "nbformat": 4,
 "nbformat_minor": 5
}
